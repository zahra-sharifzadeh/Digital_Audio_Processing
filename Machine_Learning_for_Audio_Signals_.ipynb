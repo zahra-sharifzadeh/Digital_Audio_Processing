{
  "nbformat": 4,
  "nbformat_minor": 0,
  "metadata": {
    "colab": {
      "provenance": [],
      "authorship_tag": "ABX9TyPMQeYY8gzKTV7Nzw0yqFmz",
      "include_colab_link": true
    },
    "kernelspec": {
      "name": "python3",
      "display_name": "Python 3"
    },
    "language_info": {
      "name": "python"
    }
  },
  "cells": [
    {
      "cell_type": "markdown",
      "metadata": {
        "id": "view-in-github",
        "colab_type": "text"
      },
      "source": [
        "<a href=\"https://colab.research.google.com/github/zahra-sharifzadeh/Digital_Audio_Processing/blob/main/Machine_Learning_for_Audio_Signals_.ipynb\" target=\"_parent\"><img src=\"https://colab.research.google.com/assets/colab-badge.svg\" alt=\"Open In Colab\"/></a>"
      ]
    },
    {
      "cell_type": "code",
      "execution_count": 5,
      "metadata": {
        "colab": {
          "base_uri": "https://localhost:8080/",
          "height": 35
        },
        "id": "OTncVkZpk_ZK",
        "outputId": "bb7e197b-ebdb-4ed1-ab2f-44aaf6822530"
      },
      "outputs": [
        {
          "output_type": "execute_result",
          "data": {
            "text/plain": [
              "'cpu'"
            ],
            "application/vnd.google.colaboratory.intrinsic+json": {
              "type": "string"
            }
          },
          "metadata": {},
          "execution_count": 5
        }
      ],
      "source": [
        "import torch\n",
        "from torch import nn\n",
        "device = \"cuda\" if torch.cuda.is_available() else \"cpu\"\n",
        "device"
      ]
    },
    {
      "cell_type": "code",
      "source": [
        "class LinNet(nn.Module):\n",
        "\n",
        "  def __init__(self):\n",
        "    super(LinNet, self).__init__()\n",
        "\n",
        "    self.layer1 = nn.Sequential(\n",
        "        nn.Linear(in_features=2,\n",
        "                  out_features=2,\n",
        "                  bias=True)\n",
        "    )\n",
        "\n",
        "  def forward(self, x):\n",
        "    out = self.layer1(x)\n",
        "    return out"
      ],
      "metadata": {
        "id": "J8Yez3xy8p2F"
      },
      "execution_count": 6,
      "outputs": []
    },
    {
      "cell_type": "code",
      "source": [
        "X = torch.tensor([[1. , 2.], [2., 1.], [1., 1.]]).view(1, 3, 2)\n",
        "print(f\"X.shape: {X.shape}\")\n",
        "\n",
        "Y = torch.tensor([[1., 0.], [0., 1.], [0., 0.]]).view(1, 3, 2)\n",
        "print(f\"Y.shape: {Y.shape}\")\n",
        "\n",
        "Xval = torch.tensor([[0.5, 1.0], [1., 0.5], [0.5, 0.5]]).view(1, 3, 2)\n",
        "\n",
        "Yval = torch.tensor([[1., 0.], [0., 1.], [0., 0.]]).view(1, 3, 2)\n"
      ],
      "metadata": {
        "colab": {
          "base_uri": "https://localhost:8080/"
        },
        "id": "2GjcyyBmB_uv",
        "outputId": "dac5d717-a916-4104-a909-ade69aaa120d"
      },
      "execution_count": 7,
      "outputs": [
        {
          "output_type": "stream",
          "name": "stdout",
          "text": [
            "X.shape: torch.Size([1, 3, 2])\n",
            "Y.shape: torch.Size([1, 3, 2])\n"
          ]
        }
      ]
    },
    {
      "cell_type": "code",
      "source": [
        "model = LinNet().to(device)\n",
        "\n",
        "loss_fn = torch.nn.MSELoss()\n",
        "print(\"Define loss function:\", loss_fn)\n",
        "\n",
        "optimizer = torch.optim.SGD(params=model.parameters(),\n",
        "                            lr=0.1)\n",
        "print(\"Define optimizer:\" ,optimizer)"
      ],
      "metadata": {
        "id": "JINvtL51CX-y",
        "colab": {
          "base_uri": "https://localhost:8080/"
        },
        "outputId": "94ce8a5c-e33b-4679-ada8-31ede5b46c49"
      },
      "execution_count": 9,
      "outputs": [
        {
          "output_type": "stream",
          "name": "stdout",
          "text": [
            "Define loss function: MSELoss()\n",
            "Define optimizer: SGD (\n",
            "Parameter Group 0\n",
            "    dampening: 0\n",
            "    differentiable: False\n",
            "    foreach: None\n",
            "    lr: 0.1\n",
            "    maximize: False\n",
            "    momentum: 0\n",
            "    nesterov: False\n",
            "    weight_decay: 0\n",
            ")\n"
          ]
        }
      ]
    },
    {
      "cell_type": "code",
      "source": [],
      "metadata": {
        "id": "BgWfBoGysDbb"
      },
      "execution_count": null,
      "outputs": []
    }
  ]
}